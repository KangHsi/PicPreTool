{
 "cells": [
  {
   "cell_type": "code",
   "execution_count": null,
   "metadata": {
    "collapsed": false,
    "scrolled": true
   },
   "outputs": [
    {
     "name": "stdout",
     "output_type": "stream",
     "text": [
      "/home/sdy/sk/resnet_google/rawdata/trainset /home/sdy/sk/resnet_google/rawdata/testset\n"
     ]
    }
   ],
   "source": [
    "import os\n",
    "trainset_dir = os.path.abspath('trainset')\n",
    "testset_dir = os.path.abspath('testset')"
   ]
  },
  {
   "cell_type": "code",
   "execution_count": null,
   "metadata": {
    "collapsed": false
   },
   "outputs": [],
   "source": [
    "train_folders = os.listdir(trainset_dir)\n",
    "test_folders = os.listdir(testset_dir)\n",
    "train_folders.sort(key = lambda x:int(x))\n",
    "test_folders.sort(key = lambda x:int(x))\n",
    "file_train = open('trainset.lst','wr')\n",
    "file_test = open('testset.lst', 'wr')"
   ]
  },
  {
   "cell_type": "code",
   "execution_count": 35,
   "metadata": {
    "collapsed": true
   },
   "outputs": [],
   "source": [
    "train_list = []\n",
    "test_list = []\n",
    "for folder in train_folders:\n",
    "    # folder_path = trainset_dir + '/' + folder\n",
    "    folder_path = trainset_dir + '/' + folder\n",
    "    img_folders = os.listdir(folder_path)\n",
    "    img_folders.sort(key = lambda x:int(x[:-4]))\n",
    "    for img in img_folders:\n",
    "        img_path = folder_path + '/' + img\n",
    "        img_num = img.split('.')[0]\n",
    "        train_list.append(img_num + ' ' + folder + ' ' + img_path + '\\n')"
   ]
  },
  {
   "cell_type": "code",
   "execution_count": 36,
   "metadata": {
    "collapsed": true
   },
   "outputs": [],
   "source": [
    "for folder in test_folders:\n",
    "    folder_path = testset_dir + '/' + folder\n",
    "    img_folders = os.listdir(folder_path)\n",
    "    img_folders.sort(key = lambda x:int(x[:-4]))\n",
    "    for img in img_folders:\n",
    "        img_path = folder_path + '/' + img\n",
    "        img_num = img.split('.')[0]\n",
    "        test_list.append(img_num + ' ' + folder + ' ' + img_path + '\\n')"
   ]
  },
  {
   "cell_type": "code",
   "execution_count": 37,
   "metadata": {
    "collapsed": false
   },
   "outputs": [],
   "source": [
    "import random\n",
    "random.shuffle(train_list)\n",
    "random.shuffle(test_list)\n",
    "for line in train_list:\n",
    "    file_train.writelines(line)\n",
    "for line in test_list:\n",
    "    file_test.writelines(line)\n",
    "file_train.close()\n",
    "file_test.close()"
   ]
  }
 ],
 "metadata": {
  "kernelspec": {
   "display_name": "Python 2",
   "language": "python",
   "name": "python2"
  },
  "language_info": {
   "codemirror_mode": {
    "name": "ipython",
    "version": 2.0
   },
   "file_extension": ".py",
   "mimetype": "text/x-python",
   "name": "python",
   "nbconvert_exporter": "python",
   "pygments_lexer": "ipython2",
   "version": "2.7.11"
  }
 },
 "nbformat": 4,
 "nbformat_minor": 0
}